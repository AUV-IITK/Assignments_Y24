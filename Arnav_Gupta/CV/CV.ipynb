{
  "nbformat": 4,
  "nbformat_minor": 0,
  "metadata": {
    "colab": {
      "provenance": []
    },
    "kernelspec": {
      "name": "python3",
      "display_name": "Python 3"
    },
    "language_info": {
      "name": "python"
    }
  },
  "cells": [
    {
      "cell_type": "markdown",
      "source": [
        "# Image to ASCII Characters"
      ],
      "metadata": {
        "id": "8WOB_rEfF28U"
      }
    },
    {
      "cell_type": "code",
      "source": [
        "import cv2\n",
        "import numpy as np\n",
        "\n",
        "ASCII_CHARS = \"@%#*+=:-. \"\n",
        "\n",
        "def image_to_ascii(image_path, output_txt_path, new_width=100):\n",
        "    img = cv2.imread(image_path, cv2.IMREAD_GRAYSCALE)\n",
        "\n",
        "    height, width = img.shape\n",
        "    aspect_ratio = height / width\n",
        "    new_height = int(aspect_ratio * new_width * 0.55)\n",
        "    resized_img = cv2.resize(img, (new_width, new_height))\n",
        "\n",
        "    ascii_img = \"\"\n",
        "    for row in resized_img:\n",
        "        for pixel in row:\n",
        "            index = int(pixel / 256 * len(ASCII_CHARS))\n",
        "            ascii_img += ASCII_CHARS[index]\n",
        "        ascii_img += \"\\n\"\n",
        "\n",
        "    with open(output_txt_path, 'w') as f:\n",
        "        f.write(ascii_img)\n",
        "\n",
        "    print(f\"ASCII art saved to: {output_txt_path}\")\n",
        "\n",
        "image_to_ascii(\"input.jpg\", \"ASCII_output.txt\", new_width=120)\n"
      ],
      "metadata": {
        "colab": {
          "base_uri": "https://localhost:8080/"
        },
        "id": "ox2XSFCQArHX",
        "outputId": "9dc33322-3102-4370-cb09-0dc9037ef9eb"
      },
      "execution_count": 6,
      "outputs": [
        {
          "output_type": "stream",
          "name": "stdout",
          "text": [
            "ASCII art saved to: ASCII_output.txt\n"
          ]
        }
      ]
    },
    {
      "cell_type": "markdown",
      "source": [
        "# Image to Braille Art"
      ],
      "metadata": {
        "id": "6FUz0jL6GBWw"
      }
    },
    {
      "cell_type": "code",
      "source": [
        "import cv2\n",
        "import numpy as np\n",
        "\n",
        "def pixel_to_braille(block):\n",
        "    # Mapping pixels to Braille dots (2x4 grid)\n",
        "    dot_map = [\n",
        "        (0, 0),  # Dot 1\n",
        "        (1, 0),  # Dot 2\n",
        "        (2, 0),  # Dot 3\n",
        "        (0, 1),  # Dot 4\n",
        "        (1, 1),  # Dot 5\n",
        "        (2, 1),  # Dot 6\n",
        "        (3, 0),  # Dot 7\n",
        "        (3, 1)   # Dot 8\n",
        "    ]\n",
        "\n",
        "    braille_char = 0\n",
        "    for i, (r, c) in enumerate(dot_map):\n",
        "        if r < block.shape[0] and c < block.shape[1]:\n",
        "            if block[r, c] == 255:  # White pixel = dot ON (image is inverted)\n",
        "                braille_char |= (1 << i)\n",
        "\n",
        "    return chr(0x2800 + braille_char)\n",
        "\n",
        "def image_to_braille(image_path, output_txt_path):\n",
        "    img = cv2.imread(image_path, cv2.IMREAD_GRAYSCALE)\n",
        "    if img is None:\n",
        "        print(\"Error: Could not read image.\")\n",
        "        return\n",
        "\n",
        "    # Resize image to multiple of 2 (width) and 4 (height)\n",
        "    h, w = img.shape\n",
        "    new_h = h\n",
        "    new_w = w\n",
        "    img = cv2.resize(img, (new_w, new_h))\n",
        "\n",
        "    # Apply adaptive thresholding (inverted)\n",
        "    img = cv2.adaptiveThreshold(\n",
        "        img,\n",
        "        maxValue=255,\n",
        "        adaptiveMethod=cv2.ADAPTIVE_THRESH_GAUSSIAN_C,\n",
        "        thresholdType=cv2.THRESH_BINARY_INV,\n",
        "        blockSize=11,\n",
        "        C=2\n",
        "    )\n",
        "\n",
        "    braille_lines = []\n",
        "    for y in range(0, new_h, 4):\n",
        "        line = ''\n",
        "        for x in range(0, new_w, 2):\n",
        "            block = img[y:y+4, x:x+2]\n",
        "            line += pixel_to_braille(block)\n",
        "        braille_lines.append(line)\n",
        "\n",
        "    # Write Braille output to text file\n",
        "    with open(output_txt_path, 'w', encoding='utf-8') as f:\n",
        "        for line in braille_lines:\n",
        "            f.write(line + '\\n')\n",
        "\n",
        "    print(f\"✅ Braille art saved to: {output_txt_path}\")\n",
        "\n",
        "# Example usage\n",
        "if __name__ == \"__main__\":\n",
        "    image_to_braille(\"input.jpg\", \"braille_art_output.txt\")\n"
      ],
      "metadata": {
        "colab": {
          "base_uri": "https://localhost:8080/"
        },
        "id": "J3waPYLGFL2a",
        "outputId": "8dae96a5-b41c-49b3-f212-197c94d9ea47"
      },
      "execution_count": 7,
      "outputs": [
        {
          "output_type": "stream",
          "name": "stdout",
          "text": [
            "✅ Braille art saved to: braille_art_output.txt\n"
          ]
        }
      ]
    }
  ]
}