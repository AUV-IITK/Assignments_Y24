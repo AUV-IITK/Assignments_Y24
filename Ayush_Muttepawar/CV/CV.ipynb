{
  "nbformat": 4,
  "nbformat_minor": 0,
  "metadata": {
    "colab": {
      "provenance": []
    },
    "kernelspec": {
      "name": "python3",
      "display_name": "Python 3"
    },
    "language_info": {
      "name": "python"
    }
  },
  "cells": [
    {
      "cell_type": "code",
      "execution_count": null,
      "metadata": {
        "id": "YbgcsL_6nF61"
      },
      "outputs": [],
      "source": [
        "import cv2\n",
        "import numpy as np\n",
        "\n",
        "def image_to_braille(image_path, output_path, threshold=127):\n",
        "    braille_base = 0x2800\n",
        "    # Dot positions in 2x4 matrix mapped to Braille dot indices\n",
        "    braille_dots = [\n",
        "        (0, 0, 0), (0, 1, 1), (0, 2, 2), (1, 0, 3),\n",
        "        (1, 1, 4), (1, 2, 5), (0, 3, 6), (1, 3, 7)\n",
        "    ]\n",
        "\n",
        "    img = cv2.imread(image_path, cv2.IMREAD_GRAYSCALE)\n",
        "\n",
        "    # Resize image so that width and height are multiples of 2 and 4 respectively\n",
        "    h, w = img.shape\n",
        "    w_new = w - (w % 2)\n",
        "    h_new = h - (h % 4)\n",
        "    img = cv2.resize(img, (w_new, h_new))\n",
        "\n",
        "    output_lines = []\n",
        "\n",
        "    for y in range(0, h_new, 4):\n",
        "        line = ''\n",
        "        for x in range(0, w_new, 2):\n",
        "            bits = 0\n",
        "            for dx, dy, bit in braille_dots:\n",
        "                px = x + dx\n",
        "                py = y + dy\n",
        "                if img[py, px] < threshold:\n",
        "                    bits |= (1 << bit)\n",
        "            braille_char = chr(braille_base + bits)\n",
        "            line += braille_char\n",
        "        output_lines.append(line)\n",
        "\n",
        "    with open(output_path, 'w', encoding='utf-8') as f:\n",
        "        f.write('\\n'.join(output_lines))\n",
        "\n",
        "    print(f\"Braille Art saved to {output_path}\")\n",
        "\n",
        "# Example usage\n",
        "image_to_braille(\"input.jpg\", \"braille_art2.txt\")\n"
      ]
    }
  ]
}
